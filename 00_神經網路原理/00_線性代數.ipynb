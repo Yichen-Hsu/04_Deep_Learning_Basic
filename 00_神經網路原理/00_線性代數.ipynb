{
 "cells": [
  {
   "cell_type": "markdown",
   "id": "0cc61656",
   "metadata": {},
   "source": [
    "線性代數(Linear Algebra)\n",
    "\n",
    "張量(Tensor)是描述向量空間(vector space)中物體的特徵，包括零維的純量、一維的向量(Vector)、二維的矩陣(Matrix)或更多維度的張量，\n",
    "線性代數則是說明張量如何進行各種運算，它被廣泛應用於各種數值分析的領域。 "
   ]
  },
  {
   "cell_type": "code",
   "execution_count": null,
   "id": "c64c957a",
   "metadata": {},
   "outputs": [],
   "source": [
    "# 1. 長度(magnitude): 計算公式為歐幾里德距離(Euclidean distance)"
   ]
  },
  {
   "cell_type": "code",
   "execution_count": 3,
   "id": "cb63874c",
   "metadata": {},
   "outputs": [
    {
     "data": {
      "text/plain": [
       "2.23606797749979"
      ]
     },
     "execution_count": 3,
     "metadata": {},
     "output_type": "execute_result"
    }
   ],
   "source": [
    "import numpy as np\n",
    "\n",
    "# 向量(Vector)\n",
    "v = np.array([2,1])\n",
    "\n",
    "# 向量長度(magnitude)計算\n",
    "(v[0]**2 + v[1]**2)**(1/2)"
   ]
  },
  {
   "cell_type": "code",
   "execution_count": 4,
   "id": "f4453091",
   "metadata": {},
   "outputs": [
    {
     "name": "stdout",
     "output_type": "stream",
     "text": [
      "2.23606797749979\n"
     ]
    }
   ],
   "source": [
    "# 使用np.linalg.norm() 計算向量長度(magnitude)\n",
    "magnitude = np.linalg.norm(v)\n",
    "print(magnitude)"
   ]
  },
  {
   "cell_type": "code",
   "execution_count": null,
   "id": "cb974e44",
   "metadata": {},
   "outputs": [],
   "source": [
    "# 2. 方向(direction): 使用tan^-1()函數計算"
   ]
  },
  {
   "cell_type": "code",
   "execution_count": 5,
   "id": "554bf5a0",
   "metadata": {},
   "outputs": [
    {
     "name": "stdout",
     "output_type": "stream",
     "text": [
      "tan(theta) = 1/2\n",
      "弳度(radian) = 0.4636\n",
      "角度(degree) = 26.57\n",
      "角度(degree =  26.57\n"
     ]
    }
   ],
   "source": [
    "# 方向(direction): 使用tan^-1 函數計算。\n",
    "\n",
    "import math\n",
    "import numpy as np\n",
    "\n",
    "# 向量(vector)\n",
    "v = np.array([2,1])\n",
    "\n",
    "vTan = v[1] / v[0]\n",
    "print('tan(theta) = 1/2')\n",
    "\n",
    "theta = math.atan(vTan)\n",
    "print('弳度(radian) =', round(theta, 4))\n",
    "print('角度(degree) =', round(theta*180/math.pi, 2))\n",
    "\n",
    "# 也可以使用 math.degrees() 轉換角度\n",
    "print('角度(degree = ', round(math.degrees(theta), 2))"
   ]
  },
  {
   "cell_type": "markdown",
   "id": "ba4dab63",
   "metadata": {},
   "source": [
    "向量四則運算規則\n",
    "    加減乘除一個常數: 常數值皆對每個元素加減乘除\n",
    "    加減乘除另一個向量: 兩個向量的相同位置的元素做加減乘除，所以兩個向量的元素個數須相等。"
   ]
  },
  {
   "cell_type": "code",
   "execution_count": 11,
   "id": "6cdd9c3a",
   "metadata": {},
   "outputs": [
    {
     "data": {
      "image/png": "[encoded data removed]",
      "text/plain": [
       "<Figure size 432x288 with 1 Axes>"
      ]
     },
     "metadata": {
      "needs_background": "light"
     },
     "output_type": "display_data"
    }
   ],
   "source": [
    "# 1. 向量加減法: 加減一個常數，長度、方向均改變\n",
    "import numpy as np\n",
    "import matplotlib.pyplot as plt\n",
    "\n",
    "# 向量(Vector) + 2\n",
    "v = np.array([2,1])\n",
    "v1 = np.array([2,1]) + 2\n",
    "v2 = np.array([2,1]) - 2\n",
    "\n",
    "# 原點\n",
    "origin = [0], [0]\n",
    "\n",
    "# 畫有箭頭的線\n",
    "plt.quiver(*origin, *v1, scale=10, color='r')\n",
    "plt.quiver(*origin, *v, scale=10, color='b')\n",
    "plt.quiver(*origin, *v2, scale=10, color='g')\n",
    "\n",
    "plt.annotate('orginal vector', (0.025, 0.01), xycoords='data', fontsize=16)\n",
    "\n",
    "# 作圖\n",
    "plt.axis('equal')\n",
    "plt.grid()\n",
    "\n",
    "plt.xticks(np.arange(-0.05, 0.06, 0.01), labels=np.arange(-5, 6, 1))\n",
    "plt.yticks(np.arange(-3, 5, 1)/100, labels=np.arange(-3, 5, 1))\n",
    "plt.show()\n"
   ]
  },
  {
   "cell_type": "code",
   "execution_count": 12,
   "id": "56b86b28",
   "metadata": {},
   "outputs": [
    {
     "data": {
      "image/png": "[encoded data removed]",
      "text/plain": [
       "<Figure size 432x288 with 1 Axes>"
      ]
     },
     "metadata": {
      "needs_background": "light"
     },
     "output_type": "display_data"
    }
   ],
   "source": [
    "# 2. 向量乘除法：乘除一個常數，長度改變、方向不改變\n",
    "import numpy as np\n",
    "import matplotlib.pyplot as plt\n",
    "\n",
    "# 向量(vector)*2\n",
    "v = np.array([2,1])\n",
    "v1 = np.array([2,1])*2\n",
    "v2 = np.array([2,1])/2\n",
    "\n",
    "# 原點\n",
    "origin = [0],[0]\n",
    "\n",
    "# 畫有箭頭的線\n",
    "plt.quiver(*origin, *v1, scale=10, color='r')\n",
    "plt.quiver(*origin, *v, scale=10, color='b')\n",
    "plt.quiver(*origin, *v2, scale=10, color='g')\n",
    "\n",
    "plt.annotate('orginal vector', (0.025, 0.008), xycoords='data', color='b', fontsize=16)\n",
    "\n",
    "# 作圖\n",
    "plt.axis('equal')\n",
    "plt.grid()\n",
    "\n",
    "plt.xticks(np.arange(-0.05, 0.06, 0.01), labels=np.arange(-5, 6, 1))\n",
    "plt.yticks(np.arange(-3, 5, 1)/100, labels=np.arange(-3, 5, 1))\n",
    "plt.show()"
   ]
  },
  {
   "cell_type": "code",
   "execution_count": null,
   "id": "76eafd8e",
   "metadata": {},
   "outputs": [],
   "source": []
  }
 ],
 "metadata": {
  "kernelspec": {
   "display_name": "Python 3 (ipykernel)",
   "language": "python",
   "name": "python3"
  },
  "language_info": {
   "codemirror_mode": {
    "name": "ipython",
    "version": 3
   },
   "file_extension": ".py",
   "mimetype": "text/x-python",
   "name": "python",
   "nbconvert_exporter": "python",
   "pygments_lexer": "ipython3",
   "version": "3.9.7"
  }
 },
 "nbformat": 4,
 "nbformat_minor": 5
}
